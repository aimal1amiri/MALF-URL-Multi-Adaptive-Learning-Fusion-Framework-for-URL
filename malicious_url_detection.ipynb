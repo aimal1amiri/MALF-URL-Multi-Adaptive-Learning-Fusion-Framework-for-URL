{
  "nbformat": 4,
  "nbformat_minor": 0,
  "metadata": {
    "colab": {
      "provenance": [],
      "authorship_tag": "ABX9TyMucGKDzGeZZ0enEaYq6i5q"
    },
    "kernelspec": {
      "name": "python3",
      "display_name": "Python 3"
    },
    "language_info": {
      "name": "python"
    }
  },
  "cells": [
    {
      "cell_type": "code",
      "execution_count": null,
      "metadata": {
        "id": "6l-ixGdd3vSO"
      },
      "outputs": [],
      "source": [
        "!git clone https://github.com/thecypherops/malicious-url-detection #contains all necessary files and the dataset\n",
        "%cd malicious-url-detection\n",
        "!mv * /content/\n",
        "!mv .[^.]* /content/\n",
        "%cd /content/\n",
        "!pip install optuna"
      ]
    },
    {
      "cell_type": "code",
      "source": [
        "!awk 'NR==1 {gsub(/label/, \"Label\")} {print}' PhiUSIIL_Phishing_URL_Dataset.csv > dataset.csv"
      ],
      "metadata": {
        "id": "HiaPTBLU31Ij"
      },
      "execution_count": null,
      "outputs": []
    },
    {
      "cell_type": "code",
      "source": [
        "!head -n 30001 dataset.csv > dataset_30k.csv"
      ],
      "metadata": {
        "id": "Zvru_ePM35Mx"
      },
      "execution_count": null,
      "outputs": []
    },
    {
      "cell_type": "code",
      "source": [
        "import importlib #if it crashes or you manually add new version of the .py classes reload them otherwise older version could be used which can cause confusion\n",
        "import sys\n",
        "if 'data_preprocessing' in sys.modules:\n",
        "    importlib.reload(sys.modules['data_preprocessing'])\n",
        "if 'model_setup' in sys.modules:\n",
        "    importlib.reload(sys.modules['model_setup'])\n",
        "if 'visualization' in sys.modules:\n",
        "    importlib.reload(sys.modules['visualization'])\n",
        "if 'ensemble_classifier' in sys.modules:\n",
        "    importlib.reload(sys.modules['ensemble_classifier'])\n",
        "if 'hyperparameter_tuning' in sys.modules:\n",
        "    importlib.reload(sys.modules['hyperparameter_tuning'])"
      ],
      "metadata": {
        "id": "LysdRxS237s8"
      },
      "execution_count": null,
      "outputs": []
    },
    {
      "cell_type": "code",
      "source": [
        "!python train.py --dataset_path dataset_30k.csv"
      ],
      "metadata": {
        "id": "3Cp20kf33-N-"
      },
      "execution_count": null,
      "outputs": []
    },
    {
      "cell_type": "code",
      "source": [
        "\n",
        "\n",
        "!python train.py --debug --debug_sample_size 1000  --dataset_path dataset_30k.csv --optimize_hyperparams --n_trials 20 #for hyperparameter tuning\n",
        "\n"
      ],
      "metadata": {
        "id": "ao6NeE154BM0"
      },
      "execution_count": null,
      "outputs": []
    },
    {
      "cell_type": "code",
      "source": [
        "!head -n 2 dataset_30k.csv"
      ],
      "metadata": {
        "id": "5HbX6r_e4D3K"
      },
      "execution_count": null,
      "outputs": []
    }
  ]
}